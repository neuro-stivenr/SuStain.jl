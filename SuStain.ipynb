{
 "cells": [
  {
   "cell_type": "code",
   "execution_count": 2,
   "id": "30e8696f-6228-4e5a-bb0c-43850e039d78",
   "metadata": {
    "tags": []
   },
   "outputs": [],
   "source": [
    "using Random, Distributions, QuadGK\n",
    "using Plots, StatsPlots\n",
    "using CSV, DataFrames\n",
    "using Base.Threads\n",
    "using ProgressMeter"
   ]
  },
  {
   "cell_type": "markdown",
   "id": "405a7a39-33cd-4605-8c6f-55bd43146309",
   "metadata": {
    "tags": []
   },
   "source": [
    "## Piecewise Linear Function\n",
    "\n",
    "$g\\left( t \\right) = \\left\\{ {\\begin{array}{*{20}{c}} {\\frac{{z_1}}{{t_{E_{z_1}}}}t,0 < t \\le t_{E_{z_1}}} \\\\ {z_1 + \\frac{{z_2 - z_1}}{{t_{E_{z_2}} - t_{E_{z_1}}}}\\left( {t - t_{E_{z_1}}} \\right),t_{E_{z_1}} < t \\le t_{E_{z_2}}} \\\\ \\vdots \\\\ {z_{R - 1} + \\frac{{z_R - z_{R - 1}}}{{t_{E_{z_R}} - t_{E_{z_{R - 1}}}}}\\left( {t - t_{E_{z_{R - 1}}}} \\right),t_{E_{z_{R - 1}}} < t \\le t_{E_{z_R}}} \\\\ {z_R + \\frac{{z_{max} - z_R}}{{1 - t_{E_{z_R}}}}\\left( {t - t_{E_{z_R}}} \\right),t_{E_{z_R}} < t \\le 1} \\end{array}} \\right.$"
   ]
  },
  {
   "cell_type": "code",
   "execution_count": 3,
   "id": "74116344-5eb3-4190-9ce5-e5c48ad0d4e6",
   "metadata": {
    "tags": []
   },
   "outputs": [
    {
     "data": {
      "text/plain": [
       "g (generic function with 1 method)"
      ]
     },
     "execution_count": 3,
     "metadata": {},
     "output_type": "execute_result"
    }
   ],
   "source": [
    "function g(\n",
    "\tt::Float64,\n",
    "\tzvec::Vector{Float64},\n",
    "\tzmax::Float64,\n",
    "\ttvec::Vector{Float64}\n",
    ")::Float64\n",
    "\tidx = 1 + sum(t .> tvec)\n",
    "\tif idx == 1\n",
    "\t\tz_event = zvec[begin]\n",
    "\t\tt_event = tvec[begin]\n",
    "\t\treturn (z_event / t_event) * t\n",
    "\tend\n",
    "\tif idx == (length(zvec) + 1)\n",
    "\t\tz_event = zvec[end]\n",
    "\t\tt_event = tvec[end]\n",
    "\t\tΔz = (zmax - z_event)\n",
    "\t\tΔt = (1 - t_event)\n",
    "\t\treturn z_event + (Δz / Δt) * (t - t_event)\n",
    "\tend\n",
    "\tz_event = zvec[idx]\n",
    "\tz_event_prev = zvec[idx - 1]\n",
    "\tt_event = tvec[idx]\n",
    "\tt_event_prev = tvec[idx - 1]\n",
    "\tΔz = (z_event - z_event_prev)\n",
    "\tΔt = (t_event - t_event_prev)\n",
    "\treturn z_event_prev + (Δz / Δt) * (t - t_event_prev)\n",
    "end"
   ]
  },
  {
   "cell_type": "markdown",
   "id": "02cc373e-89a8-40df-acc6-9234e794db56",
   "metadata": {},
   "source": [
    "## Conditional Probability of Observed Biomarker Data Given Time\n",
    "\n",
    "$P\\left( {x_{ij}|t} \\right) = NormPDF(x_{ij}, g(t), \\sigma)$"
   ]
  },
  {
   "cell_type": "code",
   "execution_count": 4,
   "id": "d7fe6665-c7ec-407f-8af1-7eb18db63480",
   "metadata": {
    "tags": []
   },
   "outputs": [
    {
     "data": {
      "text/plain": [
       "P (generic function with 1 method)"
      ]
     },
     "execution_count": 4,
     "metadata": {},
     "output_type": "execute_result"
    }
   ],
   "source": [
    "function P(\n",
    "\tx::Float64,\n",
    "\tt::Float64,\n",
    "\tzvec::Vector{Float64},\n",
    "\tzmax::Float64,\n",
    "\ttvec::Vector{Float64};\n",
    "\tσ::Float64=1.0\n",
    ")\n",
    "\tgt = g(t, zvec, zmax, tvec)\n",
    "\tdistr = Normal(gt, σ)\n",
    "\treturn logpdf(distr, x)\n",
    "end"
   ]
  },
  {
   "cell_type": "markdown",
   "id": "276cac01-2c66-414e-ad2a-85a2c5d91a20",
   "metadata": {},
   "source": [
    "## Stage to Time Conversion\n",
    "\n",
    "$t = \\frac{k}{{N + 1}}$"
   ]
  },
  {
   "cell_type": "code",
   "execution_count": 5,
   "id": "f0a57b7a-c251-432b-a14d-0cabf7d28427",
   "metadata": {
    "tags": []
   },
   "outputs": [
    {
     "data": {
      "text/plain": [
       "stage_to_t (generic function with 1 method)"
      ]
     },
     "execution_count": 5,
     "metadata": {},
     "output_type": "execute_result"
    }
   ],
   "source": [
    "function stage_to_t(k::Int64, N::Int64)\n",
    "\treturn k / (N + 1)\n",
    "end"
   ]
  },
  {
   "cell_type": "markdown",
   "id": "71d72bfb-536a-4a16-85fa-9d6552bb517f",
   "metadata": {},
   "source": [
    "## Random Biomarker Threshold Event Time Vector Generator"
   ]
  },
  {
   "cell_type": "code",
   "execution_count": 6,
   "id": "60135a34-6c5e-4dfb-8cbf-a8116eb9a847",
   "metadata": {
    "tags": []
   },
   "outputs": [
    {
     "data": {
      "text/plain": [
       "gen_rand_tvec (generic function with 1 method)"
      ]
     },
     "execution_count": 6,
     "metadata": {},
     "output_type": "execute_result"
    }
   ],
   "source": [
    "function gen_rand_tvec(N::Int64)\n",
    "\ttvec = Vector{Float64}(undef, N)\n",
    "\ttvec[1] = rand(Uniform(0, 1))\n",
    "\tfor n in 2:N\n",
    "\t\ttvec[n] = rand(Uniform(tvec[n - 1], 1))\n",
    "\tend\n",
    "\treturn tvec\n",
    "end"
   ]
  },
  {
   "cell_type": "markdown",
   "id": "e8eaf7c4-5a7b-46f8-8b13-d0aa046508fd",
   "metadata": {},
   "source": [
    "## Single Subtype Likelihood Function\n",
    "\n",
    "$P\\left( {{\\bf{X}}|{\\bf{S}}} \\right) = \\mathop {\\prod }\\limits_{j = 1}^J \\left[ {\\mathop {\\sum }\\limits_{k = 0}^N \\left( {\\mathop {\\int }\\nolimits_{t = \\frac{k}{{N + 1}}}^{t = \\frac{{k + 1}}{{N + 1}}} \\left( {P(t)\\mathop {\\prod }\\limits_{i = 1}^I {\\kern 1pt} P\\left( {x_{ij}|t} \\right)} \\right)\\partial t} \\right)} \\right]$"
   ]
  },
  {
   "cell_type": "code",
   "execution_count": 7,
   "id": "240cfda7-4fc6-48c7-ade0-db8dd8936dd3",
   "metadata": {
    "tags": []
   },
   "outputs": [
    {
     "data": {
      "text/plain": [
       "model_likelihood (generic function with 1 method)"
      ]
     },
     "execution_count": 7,
     "metadata": {},
     "output_type": "execute_result"
    }
   ],
   "source": [
    "function model_likelihood(\n",
    "\tdf_reg::DataFrame,\n",
    "\tN_stages::Int64,\n",
    "\tz_dict::Dict{String, Vector{Float64}},\n",
    "\tz_max_dict::Dict{String, Float64},\n",
    "\ttvec_dict::Dict{String, Vector{Float64}}\n",
    ")\n",
    "\tj_prod = 0.0\n",
    "\tfor j in eachrow(df_reg)\n",
    "\t\tbiomarkers = names(j)\n",
    "\t\tk_sum = 0.0 # sum of likelihoods across stages for a given participant\n",
    "\t\tfor stage in 0:(N_stages-1)\n",
    "\t\t\tt_i = stage_to_t(stage, N_stages)\n",
    "\t\t\tt_f = stage_to_t(stage + 1, N_stages)\n",
    "\t\t\tk_sum += quadgk( # integrate likelihood for this window and add to the total sum\n",
    "                # first input is a function, which is to be run on every slice of time within\n",
    "                # a stage, while the outputs are cumulatively summed together\n",
    "\t\t\t\tt -> \n",
    "                begin\n",
    "\t\t\t\t\tx_prod = 0 # product of biomarker likelihoods\n",
    "                    # we implement it as a sum of log likelihoods,\n",
    "                    # in order to avoid issues with arithmetic underflow\n",
    "\t\t\t\t\tfor biomarker in biomarkers\n",
    "\t\t\t\t\t\tx_prod += P( # multiplication is adding because log\n",
    "\t\t\t\t\t\t\tj[biomarker], t,\n",
    "\t\t\t\t\t\t\tz_dict[biomarker],\n",
    "\t\t\t\t\t\t\tz_max_dict[biomarker],\n",
    "\t\t\t\t\t\t\ttvec_dict[biomarker]\n",
    "\t\t\t\t\t\t) # log likelihood\n",
    "\t\t\t\t\tend\n",
    "                    x_prod = exp(x_prod) # bring it back into likelihood via exponent\n",
    "\t\t\t\t\treturn x_prod\n",
    "\t\t\t\tend,\n",
    "                # start and end of time window that we are integrating over\n",
    "\t\t\t\tt_i, t_f\n",
    "\t\t\t) |> first # output is a single value, which is the integral of likelihood over window\n",
    "            # second output is not useful\n",
    "\t\tend\n",
    "\t\t# we take a log of the sum of stage likelihoods to again safely calculate the cumulative product\n",
    "\t\tj_prod += log(k_sum)\n",
    "\tend\n",
    "\treturn j_prod # we keep the product of participant likelihoods logged, for future convenience\n",
    "end"
   ]
  },
  {
   "cell_type": "markdown",
   "id": "a30ccc26-dfa4-4042-9e13-bbb0fd9616f5",
   "metadata": {},
   "source": [
    "## Convenience Functions"
   ]
  },
  {
   "cell_type": "code",
   "execution_count": 8,
   "id": "f80e1e1c-e48a-485a-a154-678dbbfdd38a",
   "metadata": {
    "tags": []
   },
   "outputs": [
    {
     "data": {
      "text/plain": [
       "coord_to_cutoffs (generic function with 1 method)"
      ]
     },
     "execution_count": 8,
     "metadata": {},
     "output_type": "execute_result"
    }
   ],
   "source": [
    "function gen_z_dict(df::DataFrame, biomarkers::Vector{String}; value=nothing)\n",
    "\tmap(biomarkers) do biomarker\n",
    "\t\tif !isnothing(value)\n",
    "\t\t\treturn biomarker => value\n",
    "\t\tend\n",
    "\t\tvec_biomarker = df[:,biomarker]\n",
    "\t\tvec_biomarker_pos = vec_biomarker[vec_biomarker .> 0]\n",
    "\t\tbiomarker => [\n",
    "\t\t\tquantile(vec_biomarker_pos, 0.33),\n",
    "\t\t\tquantile(vec_biomarker_pos, 0.66),\n",
    "\t\t\tquantile(vec_biomarker_pos, 0.99)\n",
    "\t\t]\n",
    "\tend |> Dict\n",
    "end\n",
    "\n",
    "function gen_zmax_dict(df::DataFrame, biomarkers::Vector{String}; value=nothing)\n",
    "\tmap(biomarkers) do biomarker\n",
    "\t\tif !isnothing(value)\n",
    "\t\t\treturn biomarker => value\n",
    "\t\tend\n",
    "\t\tvec_biomarker = df[:,biomarker]\n",
    "\t\tbiomarker => maximum(vec_biomarker)\n",
    "\tend |> Dict\n",
    "end\n",
    "\n",
    "function run_models(n_iter, regions, df_reg, N_stages, dict_z, dict_zmax)\n",
    "\tvec_ml = Vector{Float64}(undef, n_iter)\n",
    "\tvec_tvec = Vector{Dict{String, Vector{Float64}}}(undef, n_iter)\n",
    "\tprogbar = Progress(n_iter)\n",
    "\tfor i in 1:n_iter\n",
    "\t\tdict_tvec_rand = Dict([\n",
    "\t\t\tregion => gen_rand_tvec(3)\n",
    "\t\t\tfor region in regions\n",
    "\t\t]...)\n",
    "\t\tlik = model_likelihood(\n",
    "\t\t\tdf_reg,\n",
    "\t\t\tN_stages,\n",
    "\t\t\tdict_z,\n",
    "\t\t\tdict_zmax,\n",
    "\t\t\tdict_tvec_rand\n",
    "\t\t)\n",
    "\t\tvec_ml[i] = lik\n",
    "\t\tvec_tvec[i] = dict_tvec_rand\n",
    "\t\tnext!(progbar)\n",
    "\tend\n",
    "\tfinish!(progbar)\n",
    "\treturn vec_ml, vec_tvec\n",
    "end\n",
    "\n",
    "function run_parallel_models(n_iter, regions, df_reg, N_stages, dict_z, dict_zmax)\n",
    "\tvec_ml = Vector{Float64}(undef, n_iter)\n",
    "\tvec_tvec = Vector{Dict{String, Vector{Float64}}}(undef, n_iter)\n",
    "\tprogbar = Progress(n_iter)\n",
    "\tThreads.@threads for i in 1:n_iter\n",
    "\t\tdict_tvec_rand = Dict([\n",
    "\t\t\tregion => gen_rand_tvec(3)\n",
    "\t\t\tfor region in regions\n",
    "\t\t]...)\n",
    "\t\tlik = model_likelihood(\n",
    "\t\t\tdf_reg,\n",
    "\t\t\tN_stages,\n",
    "\t\t\tdict_z,\n",
    "\t\t\tdict_zmax,\n",
    "\t\t\tdict_tvec_rand\n",
    "\t\t)\n",
    "\t\tvec_ml[i] = lik\n",
    "\t\tvec_tvec[i] = dict_tvec_rand\n",
    "\t\tnext!(progbar)\n",
    "\tend\n",
    "\tfinish!(progbar)\n",
    "\treturn vec_ml, vec_tvec\n",
    "end\n",
    "\n",
    "function plot_progression(\n",
    "\tdict_opt::Dict{String, Vector{Float64}},\n",
    "\tdict_z::Dict{String, Vector{Float64}},\n",
    "\tdict_zmax::Dict{String, Float64},\n",
    "\tregions::Vector{String}\n",
    ")\n",
    "\tp = plot(\n",
    "\t\txlabel=\"Time\",\n",
    "\t\tylabel=\"Z-score\",\n",
    "\t\txlims=(0, 1),\n",
    "\t\tylims=(0, maximum(values(dict_zmax)))\n",
    "\t)\n",
    "\tfor region in regions\n",
    "\t\tvec_t = [0.0, dict_opt[region]..., 1.0]\n",
    "\t\tvec_z = [0.0, dict_z[region]..., dict_zmax[region]]\n",
    "\t\tplot!(vec_t, vec_z, labels=\"\", color=\"black\")\n",
    "\t\tscatter!(\n",
    "\t\t\tvec_t[begin+1:end-1],\n",
    "\t\t\tvec_z[begin+1:end-1],\n",
    "\t\t\tlabels=region,\n",
    "\t\t\tlegend=:topleft\n",
    "\t\t)\n",
    "\tend\n",
    "\treturn p\n",
    "end\n",
    "\n",
    "function coord_to_cutoffs(coord::Tuple{Float64, Float64, Float64})\n",
    "    value_1 = coord[1]\n",
    "    leftover_1 = 1 - value_1\n",
    "    value_2 = value_1 + leftover_1 * coord[2]\n",
    "    leftover_2 = 1 - value_2\n",
    "    value_3 = value_2 + leftover_2 * coord[3]\n",
    "    (value_1, value_2, value_3)\n",
    "end"
   ]
  }
 ],
 "metadata": {
  "kernelspec": {
   "display_name": "Julia 1.6.2",
   "language": "julia",
   "name": "julia-1.6"
  },
  "language_info": {
   "file_extension": ".jl",
   "mimetype": "application/julia",
   "name": "julia",
   "version": "1.6.2"
  }
 },
 "nbformat": 4,
 "nbformat_minor": 5
}
