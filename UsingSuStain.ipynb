{
 "cells": [
  {
   "cell_type": "code",
   "execution_count": 1,
   "id": "cd5a27da-8af8-4a44-bae8-93c1b1d15e55",
   "metadata": {
    "tags": []
   },
   "outputs": [],
   "source": [
    "using CSV, DataFrames"
   ]
  },
  {
   "cell_type": "code",
   "execution_count": 2,
   "id": "6526db42-5f38-4372-8264-1eff32c1bcbe",
   "metadata": {
    "tags": []
   },
   "outputs": [
    {
     "data": {
      "text/plain": [
       "Main.SuStain"
      ]
     },
     "execution_count": 2,
     "metadata": {},
     "output_type": "execute_result"
    }
   ],
   "source": [
    "include(\"src/SuStain.jl\")"
   ]
  },
  {
   "cell_type": "code",
   "execution_count": 130,
   "id": "3c68a7c1-4be8-44bf-b131-24226f118142",
   "metadata": {
    "tags": []
   },
   "outputs": [
    {
     "data": {
      "text/html": [
       "<div><div style = \"float: left;\"><span>140×3 DataFrame</span></div><div style = \"float: right;\"><span style = \"font-style: italic;\">115 rows omitted</span></div><div style = \"clear: both;\"></div></div><div class = \"data-frame\" style = \"overflow-x: scroll;\"><table class = \"data-frame\" style = \"margin-bottom: 6px;\"><thead><tr class = \"header\"><th class = \"rowNumber\" style = \"font-weight: bold; text-align: right;\">Row</th><th style = \"text-align: left;\">occipital</th><th style = \"text-align: left;\">parietal</th><th style = \"text-align: left;\">temporal</th></tr><tr class = \"subheader headerLastRow\"><th class = \"rowNumber\" style = \"font-weight: bold; text-align: right;\"></th><th title = \"Float64\" style = \"text-align: left;\">Float64</th><th title = \"Float64\" style = \"text-align: left;\">Float64</th><th title = \"Float64\" style = \"text-align: left;\">Float64</th></tr></thead><tbody><tr><td class = \"rowNumber\" style = \"font-weight: bold; text-align: right;\">1</td><td style = \"text-align: right;\">1.86433</td><td style = \"text-align: right;\">0.887064</td><td style = \"text-align: right;\">0.393155</td></tr><tr><td class = \"rowNumber\" style = \"font-weight: bold; text-align: right;\">2</td><td style = \"text-align: right;\">2.30478</td><td style = \"text-align: right;\">2.16994</td><td style = \"text-align: right;\">1.39263</td></tr><tr><td class = \"rowNumber\" style = \"font-weight: bold; text-align: right;\">3</td><td style = \"text-align: right;\">1.54672</td><td style = \"text-align: right;\">1.49268</td><td style = \"text-align: right;\">0.867108</td></tr><tr><td class = \"rowNumber\" style = \"font-weight: bold; text-align: right;\">4</td><td style = \"text-align: right;\">0.135416</td><td style = \"text-align: right;\">-0.0</td><td style = \"text-align: right;\">-0.0</td></tr><tr><td class = \"rowNumber\" style = \"font-weight: bold; text-align: right;\">5</td><td style = \"text-align: right;\">-0.0</td><td style = \"text-align: right;\">-0.0</td><td style = \"text-align: right;\">-0.0</td></tr><tr><td class = \"rowNumber\" style = \"font-weight: bold; text-align: right;\">6</td><td style = \"text-align: right;\">2.16123</td><td style = \"text-align: right;\">1.71004</td><td style = \"text-align: right;\">2.50635</td></tr><tr><td class = \"rowNumber\" style = \"font-weight: bold; text-align: right;\">7</td><td style = \"text-align: right;\">1.39153</td><td style = \"text-align: right;\">1.09326</td><td style = \"text-align: right;\">0.645022</td></tr><tr><td class = \"rowNumber\" style = \"font-weight: bold; text-align: right;\">8</td><td style = \"text-align: right;\">2.19054</td><td style = \"text-align: right;\">0.32967</td><td style = \"text-align: right;\">0.306801</td></tr><tr><td class = \"rowNumber\" style = \"font-weight: bold; text-align: right;\">9</td><td style = \"text-align: right;\">2.02015</td><td style = \"text-align: right;\">0.31997</td><td style = \"text-align: right;\">-0.0</td></tr><tr><td class = \"rowNumber\" style = \"font-weight: bold; text-align: right;\">10</td><td style = \"text-align: right;\">2.49603</td><td style = \"text-align: right;\">3.35255</td><td style = \"text-align: right;\">2.13174</td></tr><tr><td class = \"rowNumber\" style = \"font-weight: bold; text-align: right;\">11</td><td style = \"text-align: right;\">1.97622</td><td style = \"text-align: right;\">1.93134</td><td style = \"text-align: right;\">1.23966</td></tr><tr><td class = \"rowNumber\" style = \"font-weight: bold; text-align: right;\">12</td><td style = \"text-align: right;\">1.08966</td><td style = \"text-align: right;\">1.66693</td><td style = \"text-align: right;\">-0.0</td></tr><tr><td class = \"rowNumber\" style = \"font-weight: bold; text-align: right;\">13</td><td style = \"text-align: right;\">2.67181</td><td style = \"text-align: right;\">0.831983</td><td style = \"text-align: right;\">1.71391</td></tr><tr><td style = \"text-align: right;\">&vellip;</td><td style = \"text-align: right;\">&vellip;</td><td style = \"text-align: right;\">&vellip;</td><td style = \"text-align: right;\">&vellip;</td></tr><tr><td class = \"rowNumber\" style = \"font-weight: bold; text-align: right;\">129</td><td style = \"text-align: right;\">0.902128</td><td style = \"text-align: right;\">0.883709</td><td style = \"text-align: right;\">0.225404</td></tr><tr><td class = \"rowNumber\" style = \"font-weight: bold; text-align: right;\">130</td><td style = \"text-align: right;\">0.014107</td><td style = \"text-align: right;\">0.129087</td><td style = \"text-align: right;\">0.0558592</td></tr><tr><td class = \"rowNumber\" style = \"font-weight: bold; text-align: right;\">131</td><td style = \"text-align: right;\">0.72619</td><td style = \"text-align: right;\">0.689401</td><td style = \"text-align: right;\">1.32093</td></tr><tr><td class = \"rowNumber\" style = \"font-weight: bold; text-align: right;\">132</td><td style = \"text-align: right;\">-0.0</td><td style = \"text-align: right;\">-0.0</td><td style = \"text-align: right;\">0.573773</td></tr><tr><td class = \"rowNumber\" style = \"font-weight: bold; text-align: right;\">133</td><td style = \"text-align: right;\">1.47915</td><td style = \"text-align: right;\">1.41955</td><td style = \"text-align: right;\">2.13146</td></tr><tr><td class = \"rowNumber\" style = \"font-weight: bold; text-align: right;\">134</td><td style = \"text-align: right;\">0.0735859</td><td style = \"text-align: right;\">-0.0</td><td style = \"text-align: right;\">0.081875</td></tr><tr><td class = \"rowNumber\" style = \"font-weight: bold; text-align: right;\">135</td><td style = \"text-align: right;\">1.70134</td><td style = \"text-align: right;\">1.13457</td><td style = \"text-align: right;\">1.90711</td></tr><tr><td class = \"rowNumber\" style = \"font-weight: bold; text-align: right;\">136</td><td style = \"text-align: right;\">0.137557</td><td style = \"text-align: right;\">0.997098</td><td style = \"text-align: right;\">-0.0</td></tr><tr><td class = \"rowNumber\" style = \"font-weight: bold; text-align: right;\">137</td><td style = \"text-align: right;\">-0.0</td><td style = \"text-align: right;\">-0.0</td><td style = \"text-align: right;\">1.92958</td></tr><tr><td class = \"rowNumber\" style = \"font-weight: bold; text-align: right;\">138</td><td style = \"text-align: right;\">-0.0</td><td style = \"text-align: right;\">-0.0</td><td style = \"text-align: right;\">0.190461</td></tr><tr><td class = \"rowNumber\" style = \"font-weight: bold; text-align: right;\">139</td><td style = \"text-align: right;\">0.198568</td><td style = \"text-align: right;\">0.0691309</td><td style = \"text-align: right;\">0.436118</td></tr><tr><td class = \"rowNumber\" style = \"font-weight: bold; text-align: right;\">140</td><td style = \"text-align: right;\">0.232079</td><td style = \"text-align: right;\">0.438296</td><td style = \"text-align: right;\">0.428298</td></tr></tbody></table></div>"
      ],
      "text/latex": [
       "\\begin{tabular}{r|ccc}\n",
       "\t& occipital & parietal & temporal\\\\\n",
       "\t\\hline\n",
       "\t& Float64 & Float64 & Float64\\\\\n",
       "\t\\hline\n",
       "\t1 & 1.86433 & 0.887064 & 0.393155 \\\\\n",
       "\t2 & 2.30478 & 2.16994 & 1.39263 \\\\\n",
       "\t3 & 1.54672 & 1.49268 & 0.867108 \\\\\n",
       "\t4 & 0.135416 & -0.0 & -0.0 \\\\\n",
       "\t5 & -0.0 & -0.0 & -0.0 \\\\\n",
       "\t6 & 2.16123 & 1.71004 & 2.50635 \\\\\n",
       "\t7 & 1.39153 & 1.09326 & 0.645022 \\\\\n",
       "\t8 & 2.19054 & 0.32967 & 0.306801 \\\\\n",
       "\t9 & 2.02015 & 0.31997 & -0.0 \\\\\n",
       "\t10 & 2.49603 & 3.35255 & 2.13174 \\\\\n",
       "\t11 & 1.97622 & 1.93134 & 1.23966 \\\\\n",
       "\t12 & 1.08966 & 1.66693 & -0.0 \\\\\n",
       "\t13 & 2.67181 & 0.831983 & 1.71391 \\\\\n",
       "\t14 & 2.02285 & 1.28764 & 0.664992 \\\\\n",
       "\t15 & 1.5461 & 1.69721 & 0.993743 \\\\\n",
       "\t16 & 0.241022 & 0.530858 & -0.0 \\\\\n",
       "\t17 & -0.0 & -0.0 & -0.0 \\\\\n",
       "\t18 & 0.627383 & 0.655684 & 0.869879 \\\\\n",
       "\t19 & 0.0456427 & 0.197373 & 0.69208 \\\\\n",
       "\t20 & 0.409552 & 0.310846 & 0.47759 \\\\\n",
       "\t21 & 1.61325 & 0.400509 & 1.16813 \\\\\n",
       "\t22 & 1.38354 & 0.276434 & 0.228831 \\\\\n",
       "\t23 & 0.948678 & -0.0 & 0.337292 \\\\\n",
       "\t24 & 2.28077 & 1.70956 & 2.11768 \\\\\n",
       "\t25 & 2.02498 & 1.04648 & 0.895764 \\\\\n",
       "\t26 & 0.876902 & 0.92494 & 1.12793 \\\\\n",
       "\t27 & 1.89807 & 0.442413 & 0.843744 \\\\\n",
       "\t28 & -0.0 & -0.0 & -0.0 \\\\\n",
       "\t29 & 2.51831 & -0.0 & 0.285807 \\\\\n",
       "\t30 & 1.15852 & 1.21849 & 1.0911 \\\\\n",
       "\t$\\dots$ & $\\dots$ & $\\dots$ & $\\dots$ \\\\\n",
       "\\end{tabular}\n"
      ],
      "text/plain": [
       "\u001b[1m140×3 DataFrame\u001b[0m\n",
       "\u001b[1m Row \u001b[0m│\u001b[1m occipital  \u001b[0m\u001b[1m parietal   \u001b[0m\u001b[1m temporal   \u001b[0m\n",
       "     │\u001b[90m Float64    \u001b[0m\u001b[90m Float64    \u001b[0m\u001b[90m Float64    \u001b[0m\n",
       "─────┼────────────────────────────────────\n",
       "   1 │  1.86433     0.887064    0.393155\n",
       "   2 │  2.30478     2.16994     1.39263\n",
       "   3 │  1.54672     1.49268     0.867108\n",
       "   4 │  0.135416   -0.0        -0.0\n",
       "   5 │ -0.0        -0.0        -0.0\n",
       "   6 │  2.16123     1.71004     2.50635\n",
       "   7 │  1.39153     1.09326     0.645022\n",
       "   8 │  2.19054     0.32967     0.306801\n",
       "   9 │  2.02015     0.31997    -0.0\n",
       "  10 │  2.49603     3.35255     2.13174\n",
       "  11 │  1.97622     1.93134     1.23966\n",
       "  ⋮  │     ⋮           ⋮           ⋮\n",
       " 131 │  0.72619     0.689401    1.32093\n",
       " 132 │ -0.0        -0.0         0.573773\n",
       " 133 │  1.47915     1.41955     2.13146\n",
       " 134 │  0.0735859  -0.0         0.081875\n",
       " 135 │  1.70134     1.13457     1.90711\n",
       " 136 │  0.137557    0.997098   -0.0\n",
       " 137 │ -0.0        -0.0         1.92958\n",
       " 138 │ -0.0        -0.0         0.190461\n",
       " 139 │  0.198568    0.0691309   0.436118\n",
       " 140 │  0.232079    0.438296    0.428298\n",
       "\u001b[36m                          119 rows omitted\u001b[0m"
      ]
     },
     "execution_count": 130,
     "metadata": {},
     "output_type": "execute_result"
    }
   ],
   "source": [
    "df_data = CSV.read(\"/Users/stivenr/Downloads/feobv_zdata.csv\", DataFrame);\n",
    "regions = [\"occipital\", \"parietal\", \"temporal\"]\n",
    "df_reg = df_data[:,regions];\n",
    "df_reg = df_reg .* (df_reg .>= 0)"
   ]
  },
  {
   "cell_type": "code",
   "execution_count": 131,
   "id": "9edacb4e-c9c1-4e79-9175-84adf5cf43cd",
   "metadata": {
    "tags": []
   },
   "outputs": [
    {
     "data": {
      "text/plain": [
       "Dict{String, Vector{Float64}} with 3 entries:\n",
       "  \"temporal\"  => [0.593505, 1.3625, 3.17885]\n",
       "  \"parietal\"  => [0.758643, 1.52698, 3.34273]\n",
       "  \"occipital\" => [1.03749, 1.93313, 3.08839]"
      ]
     },
     "execution_count": 131,
     "metadata": {},
     "output_type": "execute_result"
    }
   ],
   "source": [
    "SuStain.gen_z_dict(df_reg, regions)"
   ]
  },
  {
   "cell_type": "code",
   "execution_count": 132,
   "id": "5572d4ad-907d-43b0-af8d-b5c06a220d7e",
   "metadata": {
    "tags": []
   },
   "outputs": [
    {
     "data": {
      "text/plain": [
       "Dict{String, Vector{Float64}} with 3 entries:\n",
       "  \"temporal\"  => [0.593505, 1.3625, 3.17885]\n",
       "  \"parietal\"  => [0.758643, 1.52698, 3.34273]\n",
       "  \"occipital\" => [1.03749, 1.93313, 3.08839]"
      ]
     },
     "execution_count": 132,
     "metadata": {},
     "output_type": "execute_result"
    }
   ],
   "source": [
    "dict_z = SuStain.gen_z_dict(df_reg, regions)"
   ]
  },
  {
   "cell_type": "code",
   "execution_count": 133,
   "id": "51f6ba84-295c-41fd-975b-5cafe4bb3e97",
   "metadata": {
    "tags": []
   },
   "outputs": [
    {
     "data": {
      "text/plain": [
       "Dict{String, Float64} with 3 entries:\n",
       "  \"temporal\"  => 3.92931\n",
       "  \"parietal\"  => 4.51555\n",
       "  \"occipital\" => 3.20468"
      ]
     },
     "execution_count": 133,
     "metadata": {},
     "output_type": "execute_result"
    }
   ],
   "source": [
    "dict_zmax = SuStain.gen_zmax_dict(df_reg, regions)"
   ]
  },
  {
   "cell_type": "code",
   "execution_count": 135,
   "id": "7ef88eed-9d7b-4f24-a0f4-7221e147c1ee",
   "metadata": {
    "tags": []
   },
   "outputs": [
    {
     "data": {
      "text/plain": [
       "3"
      ]
     },
     "execution_count": 135,
     "metadata": {},
     "output_type": "execute_result"
    }
   ],
   "source": [
    "N_stages = 3"
   ]
  },
  {
   "cell_type": "code",
   "execution_count": 136,
   "id": "0b4dcce2-e5f8-4f6a-84b6-e89ab12261dd",
   "metadata": {
    "tags": []
   },
   "outputs": [
    {
     "name": "stderr",
     "output_type": "stream",
     "text": [
      "\u001b[32mProgress: 100%|█████████████████████████████████████████| Time: 0:00:21\u001b[39m\n"
     ]
    }
   ],
   "source": [
    "vec_loglik, vec_tvec = SuStain.run_models(100, regions, df_reg, N_stages, dict_z, dict_zmax);"
   ]
  },
  {
   "cell_type": "code",
   "execution_count": 137,
   "id": "1083ced9-7d66-4791-81c8-6dfb596e38f6",
   "metadata": {
    "tags": []
   },
   "outputs": [
    {
     "data": {
      "text/plain": [
       "-579.5287781374763"
      ]
     },
     "execution_count": 137,
     "metadata": {},
     "output_type": "execute_result"
    }
   ],
   "source": [
    "ml_idx = argmax(vec_loglik)\n",
    "vec_loglik[ml_idx]"
   ]
  },
  {
   "cell_type": "code",
   "execution_count": 138,
   "id": "f4201f71-393a-475a-b5ac-ea2c9df5a66d",
   "metadata": {
    "tags": []
   },
   "outputs": [
    {
     "data": {
      "text/plain": [
       "Dict{String, Vector{Float64}} with 3 entries:\n",
       "  \"temporal\"  => [0.438876, 0.66529, 0.743356]\n",
       "  \"parietal\"  => [0.218299, 0.637518, 0.958067]\n",
       "  \"occipital\" => [0.16976, 0.840771, 0.846805]"
      ]
     },
     "execution_count": 138,
     "metadata": {},
     "output_type": "execute_result"
    }
   ],
   "source": [
    "opt_tvec = vec_tvec[ml_idx]"
   ]
  },
  {
   "cell_type": "code",
   "execution_count": 139,
   "id": "ded30f22-4200-43ab-9d38-095909b39ec2",
   "metadata": {
    "tags": []
   },
   "outputs": [
    {
     "data": {
      "image/svg+xml": [
       "<?xml version=\"1.0\" encoding=\"utf-8\"?>\n",
       "<svg xmlns=\"http://www.w3.org/2000/svg\" xmlns:xlink=\"http://www.w3.org/1999/xlink\" width=\"600\" height=\"400\" viewBox=\"0 0 2400 1600\">\n",
       "<defs>\n",
       "  <clipPath id=\"clip630\">\n",
       "    <rect x=\"0\" y=\"0\" width=\"2400\" height=\"1600\"/>\n",
       "  </clipPath>\n",
       "</defs>\n",
       "<path clip-path=\"url(#clip630)\" d=\"M0 1600 L2400 1600 L2400 0 L0 0  Z\" fill=\"#ffffff\" fill-rule=\"evenodd\" fill-opacity=\"1\"/>\n",
       "<defs>\n",
       "  <clipPath id=\"clip631\">\n",
       "    <rect x=\"480\" y=\"0\" width=\"1681\" height=\"1600\"/>\n",
       "  </clipPath>\n",
       "</defs>\n",
       "<path clip-path=\"url(#clip630)\" d=\"M175.445 1423.18 L2352.76 1423.18 L2352.76 47.2441 L175.445 47.2441  Z\" fill=\"#ffffff\" fill-rule=\"evenodd\" fill-opacity=\"1\"/>\n",
       "<defs>\n",
       "  <clipPath id=\"clip632\">\n",
       "    <rect x=\"175\" y=\"47\" width=\"2178\" height=\"1377\"/>\n",
       "  </clipPath>\n",
       "</defs>\n",
       "<polyline clip-path=\"url(#clip632)\" style=\"stroke:#000000; stroke-linecap:round; stroke-linejoin:round; stroke-width:2; stroke-opacity:0.1; fill:none\" points=\"175.445,1423.18 175.445,47.2441 \"/>\n",
       "<polyline clip-path=\"url(#clip632)\" style=\"stroke:#000000; stroke-linecap:round; stroke-linejoin:round; stroke-width:2; stroke-opacity:0.1; fill:none\" points=\"610.907,1423.18 610.907,47.2441 \"/>\n",
       "<polyline clip-path=\"url(#clip632)\" style=\"stroke:#000000; stroke-linecap:round; stroke-linejoin:round; stroke-width:2; stroke-opacity:0.1; fill:none\" points=\"1046.37,1423.18 1046.37,47.2441 \"/>\n",
       "<polyline clip-path=\"url(#clip632)\" style=\"stroke:#000000; stroke-linecap:round; stroke-linejoin:round; stroke-width:2; stroke-opacity:0.1; fill:none\" points=\"1481.83,1423.18 1481.83,47.2441 \"/>\n",
       "<polyline clip-path=\"url(#clip632)\" style=\"stroke:#000000; stroke-linecap:round; stroke-linejoin:round; stroke-width:2; stroke-opacity:0.1; fill:none\" points=\"1917.29,1423.18 1917.29,47.2441 \"/>\n",
       "<polyline clip-path=\"url(#clip632)\" style=\"stroke:#000000; stroke-linecap:round; stroke-linejoin:round; stroke-width:2; stroke-opacity:0.1; fill:none\" points=\"2352.76,1423.18 2352.76,47.2441 \"/>\n",
       "<polyline clip-path=\"url(#clip630)\" style=\"stroke:#000000; stroke-linecap:round; stroke-linejoin:round; stroke-width:4; stroke-opacity:1; fill:none\" points=\"175.445,1423.18 2352.76,1423.18 \"/>\n",
       "<polyline clip-path=\"url(#clip630)\" style=\"stroke:#000000; stroke-linecap:round; stroke-linejoin:round; stroke-width:4; stroke-opacity:1; fill:none\" points=\"175.445,1423.18 175.445,1404.28 \"/>\n",
       "<polyline clip-path=\"url(#clip630)\" style=\"stroke:#000000; stroke-linecap:round; stroke-linejoin:round; stroke-width:4; stroke-opacity:1; fill:none\" points=\"610.907,1423.18 610.907,1404.28 \"/>\n",
       "<polyline clip-path=\"url(#clip630)\" style=\"stroke:#000000; stroke-linecap:round; stroke-linejoin:round; stroke-width:4; stroke-opacity:1; fill:none\" points=\"1046.37,1423.18 1046.37,1404.28 \"/>\n",
       "<polyline clip-path=\"url(#clip630)\" style=\"stroke:#000000; stroke-linecap:round; stroke-linejoin:round; stroke-width:4; stroke-opacity:1; fill:none\" points=\"1481.83,1423.18 1481.83,1404.28 \"/>\n",
       "<polyline clip-path=\"url(#clip630)\" style=\"stroke:#000000; stroke-linecap:round; stroke-linejoin:round; stroke-width:4; stroke-opacity:1; fill:none\" points=\"1917.29,1423.18 1917.29,1404.28 \"/>\n",
       "<polyline clip-path=\"url(#clip630)\" style=\"stroke:#000000; stroke-linecap:round; stroke-linejoin:round; stroke-width:4; stroke-opacity:1; fill:none\" points=\"2352.76,1423.18 2352.76,1404.28 \"/>\n",
       "<path clip-path=\"url(#clip630)\" d=\"M152.83 1454.1 Q149.218 1454.1 147.39 1457.66 Q145.584 1461.2 145.584 1468.33 Q145.584 1475.44 147.39 1479.01 Q149.218 1482.55 152.83 1482.55 Q156.464 1482.55 158.269 1479.01 Q160.098 1475.44 160.098 1468.33 Q160.098 1461.2 158.269 1457.66 Q156.464 1454.1 152.83 1454.1 M152.83 1450.39 Q158.64 1450.39 161.695 1455 Q164.774 1459.58 164.774 1468.33 Q164.774 1477.06 161.695 1481.67 Q158.64 1486.25 152.83 1486.25 Q147.019 1486.25 143.941 1481.67 Q140.885 1477.06 140.885 1468.33 Q140.885 1459.58 143.941 1455 Q147.019 1450.39 152.83 1450.39 Z\" fill=\"#000000\" fill-rule=\"nonzero\" fill-opacity=\"1\" /><path clip-path=\"url(#clip630)\" d=\"M172.992 1479.7 L177.876 1479.7 L177.876 1485.58 L172.992 1485.58 L172.992 1479.7 Z\" fill=\"#000000\" fill-rule=\"nonzero\" fill-opacity=\"1\" /><path clip-path=\"url(#clip630)\" d=\"M198.061 1454.1 Q194.45 1454.1 192.621 1457.66 Q190.815 1461.2 190.815 1468.33 Q190.815 1475.44 192.621 1479.01 Q194.45 1482.55 198.061 1482.55 Q201.695 1482.55 203.501 1479.01 Q205.329 1475.44 205.329 1468.33 Q205.329 1461.2 203.501 1457.66 Q201.695 1454.1 198.061 1454.1 M198.061 1450.39 Q203.871 1450.39 206.927 1455 Q210.005 1459.58 210.005 1468.33 Q210.005 1477.06 206.927 1481.67 Q203.871 1486.25 198.061 1486.25 Q192.251 1486.25 189.172 1481.67 Q186.116 1477.06 186.116 1468.33 Q186.116 1459.58 189.172 1455 Q192.251 1450.39 198.061 1450.39 Z\" fill=\"#000000\" fill-rule=\"nonzero\" fill-opacity=\"1\" /><path clip-path=\"url(#clip630)\" d=\"M589.09 1454.1 Q585.479 1454.1 583.651 1457.66 Q581.845 1461.2 581.845 1468.33 Q581.845 1475.44 583.651 1479.01 Q585.479 1482.55 589.09 1482.55 Q592.725 1482.55 594.53 1479.01 Q596.359 1475.44 596.359 1468.33 Q596.359 1461.2 594.53 1457.66 Q592.725 1454.1 589.09 1454.1 M589.09 1450.39 Q594.9 1450.39 597.956 1455 Q601.035 1459.58 601.035 1468.33 Q601.035 1477.06 597.956 1481.67 Q594.9 1486.25 589.09 1486.25 Q583.28 1486.25 580.201 1481.67 Q577.146 1477.06 577.146 1468.33 Q577.146 1459.58 580.201 1455 Q583.28 1450.39 589.09 1450.39 Z\" fill=\"#000000\" fill-rule=\"nonzero\" fill-opacity=\"1\" /><path clip-path=\"url(#clip630)\" d=\"M609.252 1479.7 L614.136 1479.7 L614.136 1485.58 L609.252 1485.58 L609.252 1479.7 Z\" fill=\"#000000\" fill-rule=\"nonzero\" fill-opacity=\"1\" /><path clip-path=\"url(#clip630)\" d=\"M628.349 1481.64 L644.669 1481.64 L644.669 1485.58 L622.724 1485.58 L622.724 1481.64 Q625.386 1478.89 629.97 1474.26 Q634.576 1469.61 635.757 1468.27 Q638.002 1465.74 638.882 1464.01 Q639.785 1462.25 639.785 1460.56 Q639.785 1457.8 637.84 1456.07 Q635.919 1454.33 632.817 1454.33 Q630.618 1454.33 628.164 1455.09 Q625.734 1455.86 622.956 1457.41 L622.956 1452.69 Q625.78 1451.55 628.234 1450.97 Q630.687 1450.39 632.724 1450.39 Q638.095 1450.39 641.289 1453.08 Q644.484 1455.77 644.484 1460.26 Q644.484 1462.39 643.673 1464.31 Q642.886 1466.2 640.78 1468.8 Q640.201 1469.47 637.099 1472.69 Q633.998 1475.88 628.349 1481.64 Z\" fill=\"#000000\" fill-rule=\"nonzero\" fill-opacity=\"1\" /><path clip-path=\"url(#clip630)\" d=\"M1023.51 1454.1 Q1019.9 1454.1 1018.07 1457.66 Q1016.27 1461.2 1016.27 1468.33 Q1016.27 1475.44 1018.07 1479.01 Q1019.9 1482.55 1023.51 1482.55 Q1027.15 1482.55 1028.95 1479.01 Q1030.78 1475.44 1030.78 1468.33 Q1030.78 1461.2 1028.95 1457.66 Q1027.15 1454.1 1023.51 1454.1 M1023.51 1450.39 Q1029.32 1450.39 1032.38 1455 Q1035.46 1459.58 1035.46 1468.33 Q1035.46 1477.06 1032.38 1481.67 Q1029.32 1486.25 1023.51 1486.25 Q1017.7 1486.25 1014.62 1481.67 Q1011.57 1477.06 1011.57 1468.33 Q1011.57 1459.58 1014.62 1455 Q1017.7 1450.39 1023.51 1450.39 Z\" fill=\"#000000\" fill-rule=\"nonzero\" fill-opacity=\"1\" /><path clip-path=\"url(#clip630)\" d=\"M1043.67 1479.7 L1048.56 1479.7 L1048.56 1485.58 L1043.67 1485.58 L1043.67 1479.7 Z\" fill=\"#000000\" fill-rule=\"nonzero\" fill-opacity=\"1\" /><path clip-path=\"url(#clip630)\" d=\"M1071.59 1455.09 L1059.78 1473.54 L1071.59 1473.54 L1071.59 1455.09 M1070.36 1451.02 L1076.24 1451.02 L1076.24 1473.54 L1081.17 1473.54 L1081.17 1477.43 L1076.24 1477.43 L1076.24 1485.58 L1071.59 1485.58 L1071.59 1477.43 L1055.99 1477.43 L1055.99 1472.92 L1070.36 1451.02 Z\" fill=\"#000000\" fill-rule=\"nonzero\" fill-opacity=\"1\" /><path clip-path=\"url(#clip630)\" d=\"M1459.13 1454.1 Q1455.52 1454.1 1453.7 1457.66 Q1451.89 1461.2 1451.89 1468.33 Q1451.89 1475.44 1453.7 1479.01 Q1455.52 1482.55 1459.13 1482.55 Q1462.77 1482.55 1464.57 1479.01 Q1466.4 1475.44 1466.4 1468.33 Q1466.4 1461.2 1464.57 1457.66 Q1462.77 1454.1 1459.13 1454.1 M1459.13 1450.39 Q1464.95 1450.39 1468 1455 Q1471.08 1459.58 1471.08 1468.33 Q1471.08 1477.06 1468 1481.67 Q1464.95 1486.25 1459.13 1486.25 Q1453.32 1486.25 1450.25 1481.67 Q1447.19 1477.06 1447.19 1468.33 Q1447.19 1459.58 1450.25 1455 Q1453.32 1450.39 1459.13 1450.39 Z\" fill=\"#000000\" fill-rule=\"nonzero\" fill-opacity=\"1\" /><path clip-path=\"url(#clip630)\" d=\"M1479.3 1479.7 L1484.18 1479.7 L1484.18 1485.58 L1479.3 1485.58 L1479.3 1479.7 Z\" fill=\"#000000\" fill-rule=\"nonzero\" fill-opacity=\"1\" /><path clip-path=\"url(#clip630)\" d=\"M1504.94 1466.44 Q1501.8 1466.44 1499.94 1468.59 Q1498.12 1470.74 1498.12 1474.49 Q1498.12 1478.22 1499.94 1480.39 Q1501.8 1482.55 1504.94 1482.55 Q1508.09 1482.55 1509.92 1480.39 Q1511.77 1478.22 1511.77 1474.49 Q1511.77 1470.74 1509.92 1468.59 Q1508.09 1466.44 1504.94 1466.44 M1514.23 1451.78 L1514.23 1456.04 Q1512.47 1455.21 1510.66 1454.77 Q1508.88 1454.33 1507.12 1454.33 Q1502.49 1454.33 1500.04 1457.45 Q1497.61 1460.58 1497.26 1466.9 Q1498.63 1464.89 1500.69 1463.82 Q1502.75 1462.73 1505.22 1462.73 Q1510.43 1462.73 1513.44 1465.9 Q1516.47 1469.05 1516.47 1474.49 Q1516.47 1479.82 1513.32 1483.03 Q1510.18 1486.25 1504.94 1486.25 Q1498.95 1486.25 1495.78 1481.67 Q1492.61 1477.06 1492.61 1468.33 Q1492.61 1460.14 1496.5 1455.28 Q1500.38 1450.39 1506.94 1450.39 Q1508.69 1450.39 1510.48 1450.74 Q1512.28 1451.09 1514.23 1451.78 Z\" fill=\"#000000\" fill-rule=\"nonzero\" fill-opacity=\"1\" /><path clip-path=\"url(#clip630)\" d=\"M1894.72 1454.1 Q1891.11 1454.1 1889.28 1457.66 Q1887.48 1461.2 1887.48 1468.33 Q1887.48 1475.44 1889.28 1479.01 Q1891.11 1482.55 1894.72 1482.55 Q1898.36 1482.55 1900.16 1479.01 Q1901.99 1475.44 1901.99 1468.33 Q1901.99 1461.2 1900.16 1457.66 Q1898.36 1454.1 1894.72 1454.1 M1894.72 1450.39 Q1900.53 1450.39 1903.59 1455 Q1906.67 1459.58 1906.67 1468.33 Q1906.67 1477.06 1903.59 1481.67 Q1900.53 1486.25 1894.72 1486.25 Q1888.91 1486.25 1885.84 1481.67 Q1882.78 1477.06 1882.78 1468.33 Q1882.78 1459.58 1885.84 1455 Q1888.91 1450.39 1894.72 1450.39 Z\" fill=\"#000000\" fill-rule=\"nonzero\" fill-opacity=\"1\" /><path clip-path=\"url(#clip630)\" d=\"M1914.89 1479.7 L1919.77 1479.7 L1919.77 1485.58 L1914.89 1485.58 L1914.89 1479.7 Z\" fill=\"#000000\" fill-rule=\"nonzero\" fill-opacity=\"1\" /><path clip-path=\"url(#clip630)\" d=\"M1939.96 1469.17 Q1936.62 1469.17 1934.7 1470.95 Q1932.8 1472.73 1932.8 1475.86 Q1932.8 1478.98 1934.7 1480.77 Q1936.62 1482.55 1939.96 1482.55 Q1943.29 1482.55 1945.21 1480.77 Q1947.13 1478.96 1947.13 1475.86 Q1947.13 1472.73 1945.21 1470.95 Q1943.31 1469.17 1939.96 1469.17 M1935.28 1467.18 Q1932.27 1466.44 1930.58 1464.38 Q1928.91 1462.32 1928.91 1459.35 Q1928.91 1455.21 1931.85 1452.8 Q1934.82 1450.39 1939.96 1450.39 Q1945.12 1450.39 1948.06 1452.8 Q1951 1455.21 1951 1459.35 Q1951 1462.32 1949.31 1464.38 Q1947.64 1466.44 1944.65 1467.18 Q1948.03 1467.96 1949.91 1470.26 Q1951.81 1472.55 1951.81 1475.86 Q1951.81 1480.88 1948.73 1483.57 Q1945.67 1486.25 1939.96 1486.25 Q1934.24 1486.25 1931.16 1483.57 Q1928.1 1480.88 1928.1 1475.86 Q1928.1 1472.55 1930 1470.26 Q1931.9 1467.96 1935.28 1467.18 M1933.57 1459.79 Q1933.57 1462.48 1935.23 1463.98 Q1936.92 1465.49 1939.96 1465.49 Q1942.96 1465.49 1944.65 1463.98 Q1946.37 1462.48 1946.37 1459.79 Q1946.37 1457.11 1944.65 1455.6 Q1942.96 1454.1 1939.96 1454.1 Q1936.92 1454.1 1935.23 1455.6 Q1933.57 1457.11 1933.57 1459.79 Z\" fill=\"#000000\" fill-rule=\"nonzero\" fill-opacity=\"1\" /><path clip-path=\"url(#clip630)\" d=\"M2319.91 1481.64 L2327.55 1481.64 L2327.55 1455.28 L2319.24 1456.95 L2319.24 1452.69 L2327.5 1451.02 L2332.18 1451.02 L2332.18 1481.64 L2339.82 1481.64 L2339.82 1485.58 L2319.91 1485.58 L2319.91 1481.64 Z\" fill=\"#000000\" fill-rule=\"nonzero\" fill-opacity=\"1\" /><path clip-path=\"url(#clip630)\" d=\"M2349.26 1479.7 L2354.14 1479.7 L2354.14 1485.58 L2349.26 1485.58 L2349.26 1479.7 Z\" fill=\"#000000\" fill-rule=\"nonzero\" fill-opacity=\"1\" /><path clip-path=\"url(#clip630)\" d=\"M2374.33 1454.1 Q2370.72 1454.1 2368.89 1457.66 Q2367.08 1461.2 2367.08 1468.33 Q2367.08 1475.44 2368.89 1479.01 Q2370.72 1482.55 2374.33 1482.55 Q2377.96 1482.55 2379.77 1479.01 Q2381.6 1475.44 2381.6 1468.33 Q2381.6 1461.2 2379.77 1457.66 Q2377.96 1454.1 2374.33 1454.1 M2374.33 1450.39 Q2380.14 1450.39 2383.2 1455 Q2386.27 1459.58 2386.27 1468.33 Q2386.27 1477.06 2383.2 1481.67 Q2380.14 1486.25 2374.33 1486.25 Q2368.52 1486.25 2365.44 1481.67 Q2362.39 1477.06 2362.39 1468.33 Q2362.39 1459.58 2365.44 1455 Q2368.52 1450.39 2374.33 1450.39 Z\" fill=\"#000000\" fill-rule=\"nonzero\" fill-opacity=\"1\" /><path clip-path=\"url(#clip630)\" d=\"M1185.98 1520.52 L1226.18 1520.52 L1226.18 1525.93 L1209.31 1525.93 L1209.31 1568.04 L1202.85 1568.04 L1202.85 1525.93 L1185.98 1525.93 L1185.98 1520.52 Z\" fill=\"#000000\" fill-rule=\"nonzero\" fill-opacity=\"1\" /><path clip-path=\"url(#clip630)\" d=\"M1230.12 1532.4 L1235.98 1532.4 L1235.98 1568.04 L1230.12 1568.04 L1230.12 1532.4 M1230.12 1518.52 L1235.98 1518.52 L1235.98 1525.93 L1230.12 1525.93 L1230.12 1518.52 Z\" fill=\"#000000\" fill-rule=\"nonzero\" fill-opacity=\"1\" /><path clip-path=\"url(#clip630)\" d=\"M1275.99 1539.24 Q1278.18 1535.29 1281.24 1533.41 Q1284.3 1531.54 1288.43 1531.54 Q1294 1531.54 1297.03 1535.45 Q1300.05 1539.33 1300.05 1546.53 L1300.05 1568.04 L1294.16 1568.04 L1294.16 1546.72 Q1294.16 1541.59 1292.35 1539.11 Q1290.53 1536.63 1286.81 1536.63 Q1282.26 1536.63 1279.62 1539.65 Q1276.98 1542.68 1276.98 1547.9 L1276.98 1568.04 L1271.09 1568.04 L1271.09 1546.72 Q1271.09 1541.56 1269.27 1539.11 Q1267.46 1536.63 1263.67 1536.63 Q1259.18 1536.63 1256.54 1539.68 Q1253.9 1542.71 1253.9 1547.9 L1253.9 1568.04 L1248.01 1568.04 L1248.01 1532.4 L1253.9 1532.4 L1253.9 1537.93 Q1255.9 1534.66 1258.71 1533.1 Q1261.51 1531.54 1265.36 1531.54 Q1269.24 1531.54 1271.95 1533.51 Q1274.68 1535.48 1275.99 1539.24 Z\" fill=\"#000000\" fill-rule=\"nonzero\" fill-opacity=\"1\" /><path clip-path=\"url(#clip630)\" d=\"M1342.22 1548.76 L1342.22 1551.62 L1315.3 1551.62 Q1315.68 1557.67 1318.93 1560.85 Q1322.2 1564 1328.03 1564 Q1331.4 1564 1334.55 1563.17 Q1337.74 1562.35 1340.86 1560.69 L1340.86 1566.23 Q1337.7 1567.57 1334.39 1568.27 Q1331.08 1568.97 1327.68 1568.97 Q1319.15 1568.97 1314.15 1564 Q1309.19 1559.04 1309.19 1550.57 Q1309.19 1541.82 1313.9 1536.69 Q1318.64 1531.54 1326.66 1531.54 Q1333.85 1531.54 1338.02 1536.18 Q1342.22 1540.8 1342.22 1548.76 M1336.37 1547.04 Q1336.3 1542.23 1333.66 1539.37 Q1331.05 1536.5 1326.72 1536.5 Q1321.82 1536.5 1318.86 1539.27 Q1315.93 1542.04 1315.49 1547.07 L1336.37 1547.04 Z\" fill=\"#000000\" fill-rule=\"nonzero\" fill-opacity=\"1\" /><polyline clip-path=\"url(#clip632)\" style=\"stroke:#000000; stroke-linecap:round; stroke-linejoin:round; stroke-width:2; stroke-opacity:0.1; fill:none\" points=\"175.445,1423.18 2352.76,1423.18 \"/>\n",
       "<polyline clip-path=\"url(#clip632)\" style=\"stroke:#000000; stroke-linecap:round; stroke-linejoin:round; stroke-width:2; stroke-opacity:0.1; fill:none\" points=\"175.445,1118.47 2352.76,1118.47 \"/>\n",
       "<polyline clip-path=\"url(#clip632)\" style=\"stroke:#000000; stroke-linecap:round; stroke-linejoin:round; stroke-width:2; stroke-opacity:0.1; fill:none\" points=\"175.445,813.758 2352.76,813.758 \"/>\n",
       "<polyline clip-path=\"url(#clip632)\" style=\"stroke:#000000; stroke-linecap:round; stroke-linejoin:round; stroke-width:2; stroke-opacity:0.1; fill:none\" points=\"175.445,509.048 2352.76,509.048 \"/>\n",
       "<polyline clip-path=\"url(#clip632)\" style=\"stroke:#000000; stroke-linecap:round; stroke-linejoin:round; stroke-width:2; stroke-opacity:0.1; fill:none\" points=\"175.445,204.337 2352.76,204.337 \"/>\n",
       "<polyline clip-path=\"url(#clip630)\" style=\"stroke:#000000; stroke-linecap:round; stroke-linejoin:round; stroke-width:4; stroke-opacity:1; fill:none\" points=\"175.445,1423.18 175.445,47.2441 \"/>\n",
       "<polyline clip-path=\"url(#clip630)\" style=\"stroke:#000000; stroke-linecap:round; stroke-linejoin:round; stroke-width:4; stroke-opacity:1; fill:none\" points=\"175.445,1423.18 194.343,1423.18 \"/>\n",
       "<polyline clip-path=\"url(#clip630)\" style=\"stroke:#000000; stroke-linecap:round; stroke-linejoin:round; stroke-width:4; stroke-opacity:1; fill:none\" points=\"175.445,1118.47 194.343,1118.47 \"/>\n",
       "<polyline clip-path=\"url(#clip630)\" style=\"stroke:#000000; stroke-linecap:round; stroke-linejoin:round; stroke-width:4; stroke-opacity:1; fill:none\" points=\"175.445,813.758 194.343,813.758 \"/>\n",
       "<polyline clip-path=\"url(#clip630)\" style=\"stroke:#000000; stroke-linecap:round; stroke-linejoin:round; stroke-width:4; stroke-opacity:1; fill:none\" points=\"175.445,509.048 194.343,509.048 \"/>\n",
       "<polyline clip-path=\"url(#clip630)\" style=\"stroke:#000000; stroke-linecap:round; stroke-linejoin:round; stroke-width:4; stroke-opacity:1; fill:none\" points=\"175.445,204.337 194.343,204.337 \"/>\n",
       "<path clip-path=\"url(#clip630)\" d=\"M127.501 1408.98 Q123.89 1408.98 122.061 1412.54 Q120.255 1416.08 120.255 1423.21 Q120.255 1430.32 122.061 1433.89 Q123.89 1437.43 127.501 1437.43 Q131.135 1437.43 132.941 1433.89 Q134.769 1430.32 134.769 1423.21 Q134.769 1416.08 132.941 1412.54 Q131.135 1408.98 127.501 1408.98 M127.501 1405.27 Q133.311 1405.27 136.367 1409.88 Q139.445 1414.46 139.445 1423.21 Q139.445 1431.94 136.367 1436.55 Q133.311 1441.13 127.501 1441.13 Q121.691 1441.13 118.612 1436.55 Q115.556 1431.94 115.556 1423.21 Q115.556 1414.46 118.612 1409.88 Q121.691 1405.27 127.501 1405.27 Z\" fill=\"#000000\" fill-rule=\"nonzero\" fill-opacity=\"1\" /><path clip-path=\"url(#clip630)\" d=\"M119.538 1131.81 L127.177 1131.81 L127.177 1105.45 L118.867 1107.11 L118.867 1102.86 L127.13 1101.19 L131.806 1101.19 L131.806 1131.81 L139.445 1131.81 L139.445 1135.75 L119.538 1135.75 L119.538 1131.81 Z\" fill=\"#000000\" fill-rule=\"nonzero\" fill-opacity=\"1\" /><path clip-path=\"url(#clip630)\" d=\"M123.126 827.103 L139.445 827.103 L139.445 831.038 L117.501 831.038 L117.501 827.103 Q120.163 824.349 124.746 819.719 Q129.353 815.066 130.533 813.724 Q132.779 811.2 133.658 809.464 Q134.561 807.705 134.561 806.015 Q134.561 803.261 132.617 801.525 Q130.695 799.789 127.593 799.789 Q125.394 799.789 122.941 800.552 Q120.51 801.316 117.732 802.867 L117.732 798.145 Q120.556 797.011 123.01 796.432 Q125.464 795.853 127.501 795.853 Q132.871 795.853 136.066 798.539 Q139.26 801.224 139.26 805.714 Q139.26 807.844 138.45 809.765 Q137.663 811.663 135.556 814.256 Q134.978 814.927 131.876 818.145 Q128.774 821.339 123.126 827.103 Z\" fill=\"#000000\" fill-rule=\"nonzero\" fill-opacity=\"1\" /><path clip-path=\"url(#clip630)\" d=\"M132.316 507.693 Q135.672 508.411 137.547 510.68 Q139.445 512.948 139.445 516.281 Q139.445 521.397 135.927 524.198 Q132.408 526.999 125.927 526.999 Q123.751 526.999 121.436 526.559 Q119.144 526.142 116.691 525.286 L116.691 520.772 Q118.635 521.906 120.95 522.485 Q123.265 523.064 125.788 523.064 Q130.186 523.064 132.478 521.328 Q134.792 519.592 134.792 516.281 Q134.792 513.226 132.64 511.513 Q130.51 509.777 126.691 509.777 L122.663 509.777 L122.663 505.934 L126.876 505.934 Q130.325 505.934 132.154 504.568 Q133.982 503.18 133.982 500.587 Q133.982 497.925 132.084 496.513 Q130.209 495.078 126.691 495.078 Q124.769 495.078 122.57 495.494 Q120.371 495.911 117.732 496.791 L117.732 492.624 Q120.394 491.883 122.709 491.513 Q125.047 491.143 127.107 491.143 Q132.431 491.143 135.533 493.573 Q138.635 495.981 138.635 500.101 Q138.635 502.971 136.992 504.962 Q135.348 506.93 132.316 507.693 Z\" fill=\"#000000\" fill-rule=\"nonzero\" fill-opacity=\"1\" /><path clip-path=\"url(#clip630)\" d=\"M129.862 191.131 L118.056 209.58 L129.862 209.58 L129.862 191.131 M128.635 187.057 L134.515 187.057 L134.515 209.58 L139.445 209.58 L139.445 213.469 L134.515 213.469 L134.515 221.617 L129.862 221.617 L129.862 213.469 L114.26 213.469 L114.26 208.955 L128.635 187.057 Z\" fill=\"#000000\" fill-rule=\"nonzero\" fill-opacity=\"1\" /><path clip-path=\"url(#clip630)\" d=\"M16.4842 852.373 L16.4842 815.038 L21.3858 815.038 L58.5933 845.084 L58.5933 814.306 L64.0042 814.306 L64.0042 853.105 L59.1026 853.105 L21.895 823.059 L21.895 852.373 L16.4842 852.373 Z\" fill=\"#000000\" fill-rule=\"nonzero\" fill-opacity=\"1\" /><path clip-path=\"url(#clip630)\" d=\"M43.5384 809.341 L43.5384 792.185 L48.7583 792.185 L48.7583 809.341 L43.5384 809.341 Z\" fill=\"#000000\" fill-rule=\"nonzero\" fill-opacity=\"1\" /><path clip-path=\"url(#clip630)\" d=\"M29.4065 760.134 L34.9447 760.134 Q33.6716 762.616 33.035 765.29 Q32.3984 767.964 32.3984 770.828 Q32.3984 775.189 33.7352 777.385 Q35.072 779.549 37.7456 779.549 Q39.7826 779.549 40.9603 777.99 Q42.1061 776.43 43.1565 771.719 L43.6021 769.714 Q44.9389 763.476 47.3897 760.866 Q49.8086 758.224 54.1691 758.224 Q59.1344 758.224 62.0308 762.171 Q64.9272 766.086 64.9272 772.961 Q64.9272 775.825 64.3543 778.944 Q63.8132 782.032 62.6992 785.469 L56.6518 785.469 Q58.3387 782.223 59.198 779.072 Q60.0256 775.921 60.0256 772.833 Q60.0256 768.696 58.6251 766.468 Q57.1929 764.24 54.6147 764.24 Q52.2276 764.24 50.9545 765.863 Q49.6813 767.454 48.5037 772.897 L48.0262 774.934 Q46.8804 780.377 44.5251 782.796 Q42.138 785.215 38.0002 785.215 Q32.9713 785.215 30.2341 781.65 Q27.4968 778.085 27.4968 771.528 Q27.4968 768.282 27.9743 765.417 Q28.4517 762.553 29.4065 760.134 Z\" fill=\"#000000\" fill-rule=\"nonzero\" fill-opacity=\"1\" /><path clip-path=\"url(#clip630)\" d=\"M29.7248 723.244 L35.1993 723.244 Q33.8307 725.727 33.1623 728.242 Q32.4621 730.724 32.4621 733.27 Q32.4621 738.968 36.0905 742.119 Q39.6872 745.27 46.212 745.27 Q52.7369 745.27 56.3653 742.119 Q59.9619 738.968 59.9619 733.27 Q59.9619 730.724 59.2935 728.242 Q58.5933 725.727 57.2247 723.244 L62.6355 723.244 Q63.7814 725.695 64.3543 728.337 Q64.9272 730.947 64.9272 733.907 Q64.9272 741.96 59.8664 746.702 Q54.8057 751.445 46.212 751.445 Q37.491 751.445 32.4939 746.67 Q27.4968 741.864 27.4968 733.525 Q27.4968 730.82 28.0697 728.242 Q28.6108 725.663 29.7248 723.244 Z\" fill=\"#000000\" fill-rule=\"nonzero\" fill-opacity=\"1\" /><path clip-path=\"url(#clip630)\" d=\"M32.4621 699.246 Q32.4621 703.956 36.1542 706.694 Q39.8145 709.431 46.212 709.431 Q52.6095 709.431 56.3017 706.725 Q59.9619 703.988 59.9619 699.246 Q59.9619 694.567 56.2698 691.83 Q52.5777 689.092 46.212 689.092 Q39.8781 689.092 36.186 691.83 Q32.4621 694.567 32.4621 699.246 M27.4968 699.246 Q27.4968 691.607 32.4621 687.246 Q37.4273 682.886 46.212 682.886 Q54.9649 682.886 59.9619 687.246 Q64.9272 691.607 64.9272 699.246 Q64.9272 706.916 59.9619 711.277 Q54.9649 715.606 46.212 715.606 Q37.4273 715.606 32.4621 711.277 Q27.4968 706.916 27.4968 699.246 Z\" fill=\"#000000\" fill-rule=\"nonzero\" fill-opacity=\"1\" /><path clip-path=\"url(#clip630)\" d=\"M33.8307 652.521 Q33.2578 653.508 33.0032 654.686 Q32.7167 655.832 32.7167 657.232 Q32.7167 662.197 35.9632 664.871 Q39.1779 667.513 45.2253 667.513 L64.0042 667.513 L64.0042 673.401 L28.3562 673.401 L28.3562 667.513 L33.8944 667.513 Q30.6479 665.667 29.0883 662.707 Q27.4968 659.747 27.4968 655.513 Q27.4968 654.909 27.5923 654.177 Q27.656 653.444 27.8151 652.553 L33.8307 652.521 Z\" fill=\"#000000\" fill-rule=\"nonzero\" fill-opacity=\"1\" /><path clip-path=\"url(#clip630)\" d=\"M44.7161 617.319 L47.5806 617.319 L47.5806 644.246 Q53.6281 643.864 56.8109 640.618 Q59.9619 637.339 59.9619 631.515 Q59.9619 628.141 59.1344 624.99 Q58.3069 621.807 56.6518 618.688 L62.1899 618.688 Q63.5267 621.839 64.227 625.149 Q64.9272 628.459 64.9272 631.865 Q64.9272 640.395 59.9619 645.392 Q54.9967 650.357 46.5303 650.357 Q37.7774 650.357 32.6531 645.646 Q27.4968 640.904 27.4968 632.883 Q27.4968 625.69 32.1438 621.52 Q36.7589 617.319 44.7161 617.319 M42.9973 623.176 Q38.1912 623.239 35.3266 625.881 Q32.4621 628.491 32.4621 632.82 Q32.4621 637.721 35.2312 640.681 Q38.0002 643.609 43.0292 644.055 L42.9973 623.176 Z\" fill=\"#000000\" fill-rule=\"nonzero\" fill-opacity=\"1\" /><polyline clip-path=\"url(#clip632)\" style=\"stroke:#000000; stroke-linecap:round; stroke-linejoin:round; stroke-width:4; stroke-opacity:1; fill:none\" points=\"175.445,1423.18 545.066,1107.04 2006.06,834.133 2019.2,482.115 2352.76,446.68 \"/>\n",
       "<circle clip-path=\"url(#clip632)\" cx=\"545.066\" cy=\"1107.04\" r=\"14.4\" fill=\"#e26f46\" fill-rule=\"evenodd\" fill-opacity=\"1\" stroke=\"#000000\" stroke-opacity=\"1\" stroke-width=\"3.2\"/>\n",
       "<circle clip-path=\"url(#clip632)\" cx=\"2006.06\" cy=\"834.133\" r=\"14.4\" fill=\"#e26f46\" fill-rule=\"evenodd\" fill-opacity=\"1\" stroke=\"#000000\" stroke-opacity=\"1\" stroke-width=\"3.2\"/>\n",
       "<circle clip-path=\"url(#clip632)\" cx=\"2019.2\" cy=\"482.115\" r=\"14.4\" fill=\"#e26f46\" fill-rule=\"evenodd\" fill-opacity=\"1\" stroke=\"#000000\" stroke-opacity=\"1\" stroke-width=\"3.2\"/>\n",
       "<polyline clip-path=\"url(#clip632)\" style=\"stroke:#000000; stroke-linecap:round; stroke-linejoin:round; stroke-width:4; stroke-opacity:1; fill:none\" points=\"175.445,1423.18 650.751,1192.01 1563.52,957.892 2261.45,404.615 2352.76,47.2441 \"/>\n",
       "<circle clip-path=\"url(#clip632)\" cx=\"650.751\" cy=\"1192.01\" r=\"14.4\" fill=\"#c271d2\" fill-rule=\"evenodd\" fill-opacity=\"1\" stroke=\"#000000\" stroke-opacity=\"1\" stroke-width=\"3.2\"/>\n",
       "<circle clip-path=\"url(#clip632)\" cx=\"1563.52\" cy=\"957.892\" r=\"14.4\" fill=\"#c271d2\" fill-rule=\"evenodd\" fill-opacity=\"1\" stroke=\"#000000\" stroke-opacity=\"1\" stroke-width=\"3.2\"/>\n",
       "<circle clip-path=\"url(#clip632)\" cx=\"2261.45\" cy=\"404.615\" r=\"14.4\" fill=\"#c271d2\" fill-rule=\"evenodd\" fill-opacity=\"1\" stroke=\"#000000\" stroke-opacity=\"1\" stroke-width=\"3.2\"/>\n",
       "<polyline clip-path=\"url(#clip632)\" style=\"stroke:#000000; stroke-linecap:round; stroke-linejoin:round; stroke-width:4; stroke-opacity:1; fill:none\" points=\"175.445,1423.18 1131.01,1242.33 1623.99,1008.01 1793.96,454.55 2352.76,225.877 \"/>\n",
       "<circle clip-path=\"url(#clip632)\" cx=\"1131.01\" cy=\"1242.33\" r=\"14.4\" fill=\"#00a9ad\" fill-rule=\"evenodd\" fill-opacity=\"1\" stroke=\"#000000\" stroke-opacity=\"1\" stroke-width=\"3.2\"/>\n",
       "<circle clip-path=\"url(#clip632)\" cx=\"1623.99\" cy=\"1008.01\" r=\"14.4\" fill=\"#00a9ad\" fill-rule=\"evenodd\" fill-opacity=\"1\" stroke=\"#000000\" stroke-opacity=\"1\" stroke-width=\"3.2\"/>\n",
       "<circle clip-path=\"url(#clip632)\" cx=\"1793.96\" cy=\"454.55\" r=\"14.4\" fill=\"#00a9ad\" fill-rule=\"evenodd\" fill-opacity=\"1\" stroke=\"#000000\" stroke-opacity=\"1\" stroke-width=\"3.2\"/>\n",
       "<path clip-path=\"url(#clip630)\" d=\"M248.022 300.469 L674.78 300.469 L674.78 93.1086 L248.022 93.1086  Z\" fill=\"#ffffff\" fill-rule=\"evenodd\" fill-opacity=\"1\"/>\n",
       "<polyline clip-path=\"url(#clip630)\" style=\"stroke:#000000; stroke-linecap:round; stroke-linejoin:round; stroke-width:4; stroke-opacity:1; fill:none\" points=\"248.022,300.469 674.78,300.469 674.78,93.1086 248.022,93.1086 248.022,300.469 \"/>\n",
       "<circle clip-path=\"url(#clip630)\" cx=\"344.792\" cy=\"144.949\" r=\"20.48\" fill=\"#e26f46\" fill-rule=\"evenodd\" fill-opacity=\"1\" stroke=\"#000000\" stroke-opacity=\"1\" stroke-width=\"4.55111\"/>\n",
       "<path clip-path=\"url(#clip630)\" d=\"M453.459 139.289 Q450.033 139.289 448.042 141.974 Q446.052 144.636 446.052 149.289 Q446.052 153.942 448.019 156.627 Q450.01 159.289 453.459 159.289 Q456.862 159.289 458.853 156.604 Q460.843 153.918 460.843 149.289 Q460.843 144.682 458.853 141.997 Q456.862 139.289 453.459 139.289 M453.459 135.678 Q459.015 135.678 462.186 139.289 Q465.357 142.9 465.357 149.289 Q465.357 155.655 462.186 159.289 Q459.015 162.9 453.459 162.9 Q447.88 162.9 444.709 159.289 Q441.561 155.655 441.561 149.289 Q441.561 142.9 444.709 139.289 Q447.88 135.678 453.459 135.678 Z\" fill=\"#000000\" fill-rule=\"nonzero\" fill-opacity=\"1\" /><path clip-path=\"url(#clip630)\" d=\"M491.075 137.298 L491.075 141.28 Q489.269 140.284 487.44 139.798 Q485.635 139.289 483.783 139.289 Q479.639 139.289 477.348 141.928 Q475.056 144.544 475.056 149.289 Q475.056 154.034 477.348 156.673 Q479.639 159.289 483.783 159.289 Q485.635 159.289 487.44 158.803 Q489.269 158.293 491.075 157.298 L491.075 161.233 Q489.292 162.067 487.371 162.483 Q485.473 162.9 483.32 162.9 Q477.464 162.9 474.014 159.219 Q470.565 155.539 470.565 149.289 Q470.565 142.946 474.038 139.312 Q477.533 135.678 483.598 135.678 Q485.565 135.678 487.44 136.095 Q489.315 136.488 491.075 137.298 Z\" fill=\"#000000\" fill-rule=\"nonzero\" fill-opacity=\"1\" /><path clip-path=\"url(#clip630)\" d=\"M517.139 137.298 L517.139 141.28 Q515.334 140.284 513.505 139.798 Q511.699 139.289 509.848 139.289 Q505.704 139.289 503.412 141.928 Q501.121 144.544 501.121 149.289 Q501.121 154.034 503.412 156.673 Q505.704 159.289 509.848 159.289 Q511.699 159.289 513.505 158.803 Q515.334 158.293 517.139 157.298 L517.139 161.233 Q515.357 162.067 513.436 162.483 Q511.537 162.9 509.385 162.9 Q503.528 162.9 500.079 159.219 Q496.63 155.539 496.63 149.289 Q496.63 142.946 500.102 139.312 Q503.598 135.678 509.662 135.678 Q511.63 135.678 513.505 136.095 Q515.38 136.488 517.139 137.298 Z\" fill=\"#000000\" fill-rule=\"nonzero\" fill-opacity=\"1\" /><path clip-path=\"url(#clip630)\" d=\"M524.547 136.303 L528.806 136.303 L528.806 162.229 L524.547 162.229 L524.547 136.303 M524.547 126.21 L528.806 126.21 L528.806 131.604 L524.547 131.604 L524.547 126.21 Z\" fill=\"#000000\" fill-rule=\"nonzero\" fill-opacity=\"1\" /><path clip-path=\"url(#clip630)\" d=\"M541.838 158.34 L541.838 172.09 L537.556 172.09 L537.556 136.303 L541.838 136.303 L541.838 140.238 Q543.181 137.923 545.218 136.812 Q547.278 135.678 550.125 135.678 Q554.847 135.678 557.787 139.428 Q560.75 143.178 560.75 149.289 Q560.75 155.4 557.787 159.15 Q554.847 162.9 550.125 162.9 Q547.278 162.9 545.218 161.789 Q543.181 160.655 541.838 158.34 M556.329 149.289 Q556.329 144.59 554.384 141.928 Q552.463 139.243 549.084 139.243 Q545.704 139.243 543.759 141.928 Q541.838 144.59 541.838 149.289 Q541.838 153.988 543.759 156.673 Q545.704 159.335 549.084 159.335 Q552.463 159.335 554.384 156.673 Q556.329 153.988 556.329 149.289 Z\" fill=\"#000000\" fill-rule=\"nonzero\" fill-opacity=\"1\" /><path clip-path=\"url(#clip630)\" d=\"M567.81 136.303 L572.07 136.303 L572.07 162.229 L567.81 162.229 L567.81 136.303 M567.81 126.21 L572.07 126.21 L572.07 131.604 L567.81 131.604 L567.81 126.21 Z\" fill=\"#000000\" fill-rule=\"nonzero\" fill-opacity=\"1\" /><path clip-path=\"url(#clip630)\" d=\"M585.194 128.942 L585.194 136.303 L593.968 136.303 L593.968 139.613 L585.194 139.613 L585.194 153.687 Q585.194 156.858 586.051 157.761 Q586.931 158.664 589.593 158.664 L593.968 158.664 L593.968 162.229 L589.593 162.229 Q584.662 162.229 582.787 160.4 Q580.912 158.548 580.912 153.687 L580.912 139.613 L577.787 139.613 L577.787 136.303 L580.912 136.303 L580.912 128.942 L585.194 128.942 Z\" fill=\"#000000\" fill-rule=\"nonzero\" fill-opacity=\"1\" /><path clip-path=\"url(#clip630)\" d=\"M611.352 149.196 Q606.19 149.196 604.199 150.377 Q602.208 151.557 602.208 154.405 Q602.208 156.673 603.69 158.016 Q605.194 159.335 607.764 159.335 Q611.305 159.335 613.435 156.835 Q615.588 154.312 615.588 150.145 L615.588 149.196 L611.352 149.196 M619.847 147.437 L619.847 162.229 L615.588 162.229 L615.588 158.293 Q614.129 160.655 611.954 161.789 Q609.778 162.9 606.63 162.9 Q602.648 162.9 600.287 160.678 Q597.949 158.432 597.949 154.682 Q597.949 150.307 600.866 148.085 Q603.805 145.863 609.616 145.863 L615.588 145.863 L615.588 145.446 Q615.588 142.507 613.643 140.909 Q611.722 139.289 608.227 139.289 Q606.005 139.289 603.898 139.821 Q601.792 140.354 599.847 141.419 L599.847 137.483 Q602.185 136.581 604.384 136.141 Q606.583 135.678 608.667 135.678 Q614.292 135.678 617.069 138.594 Q619.847 141.511 619.847 147.437 Z\" fill=\"#000000\" fill-rule=\"nonzero\" fill-opacity=\"1\" /><path clip-path=\"url(#clip630)\" d=\"M628.62 126.21 L632.879 126.21 L632.879 162.229 L628.62 162.229 L628.62 126.21 Z\" fill=\"#000000\" fill-rule=\"nonzero\" fill-opacity=\"1\" /><circle clip-path=\"url(#clip630)\" cx=\"344.792\" cy=\"196.789\" r=\"20.48\" fill=\"#c271d2\" fill-rule=\"evenodd\" fill-opacity=\"1\" stroke=\"#000000\" stroke-opacity=\"1\" stroke-width=\"4.55111\"/>\n",
       "<path clip-path=\"url(#clip630)\" d=\"M445.843 210.18 L445.843 223.93 L441.561 223.93 L441.561 188.143 L445.843 188.143 L445.843 192.078 Q447.186 189.763 449.223 188.652 Q451.283 187.518 454.13 187.518 Q458.853 187.518 461.792 191.268 Q464.755 195.018 464.755 201.129 Q464.755 207.24 461.792 210.99 Q458.853 214.74 454.13 214.74 Q451.283 214.74 449.223 213.629 Q447.186 212.495 445.843 210.18 M460.334 201.129 Q460.334 196.43 458.39 193.768 Q456.468 191.083 453.089 191.083 Q449.709 191.083 447.765 193.768 Q445.843 196.43 445.843 201.129 Q445.843 205.828 447.765 208.513 Q449.709 211.175 453.089 211.175 Q456.468 211.175 458.39 208.513 Q460.334 205.828 460.334 201.129 Z\" fill=\"#000000\" fill-rule=\"nonzero\" fill-opacity=\"1\" /><path clip-path=\"url(#clip630)\" d=\"M483.598 201.036 Q478.436 201.036 476.445 202.217 Q474.454 203.397 474.454 206.245 Q474.454 208.513 475.936 209.856 Q477.44 211.175 480.01 211.175 Q483.551 211.175 485.681 208.675 Q487.834 206.152 487.834 201.985 L487.834 201.036 L483.598 201.036 M492.093 199.277 L492.093 214.069 L487.834 214.069 L487.834 210.133 Q486.376 212.495 484.2 213.629 Q482.024 214.74 478.876 214.74 Q474.894 214.74 472.533 212.518 Q470.195 210.272 470.195 206.522 Q470.195 202.147 473.112 199.925 Q476.052 197.703 481.862 197.703 L487.834 197.703 L487.834 197.286 Q487.834 194.347 485.889 192.749 Q483.968 191.129 480.473 191.129 Q478.251 191.129 476.144 191.661 Q474.038 192.194 472.093 193.259 L472.093 189.323 Q474.431 188.421 476.63 187.981 Q478.829 187.518 480.913 187.518 Q486.538 187.518 489.315 190.434 Q492.093 193.351 492.093 199.277 Z\" fill=\"#000000\" fill-rule=\"nonzero\" fill-opacity=\"1\" /><path clip-path=\"url(#clip630)\" d=\"M515.889 192.124 Q515.172 191.708 514.315 191.522 Q513.482 191.314 512.463 191.314 Q508.852 191.314 506.908 193.675 Q504.987 196.013 504.987 200.411 L504.987 214.069 L500.704 214.069 L500.704 188.143 L504.987 188.143 L504.987 192.171 Q506.329 189.809 508.482 188.675 Q510.635 187.518 513.713 187.518 Q514.153 187.518 514.686 187.587 Q515.218 187.634 515.866 187.749 L515.889 192.124 Z\" fill=\"#000000\" fill-rule=\"nonzero\" fill-opacity=\"1\" /><path clip-path=\"url(#clip630)\" d=\"M520.357 188.143 L524.616 188.143 L524.616 214.069 L520.357 214.069 L520.357 188.143 M520.357 178.05 L524.616 178.05 L524.616 183.444 L520.357 183.444 L520.357 178.05 Z\" fill=\"#000000\" fill-rule=\"nonzero\" fill-opacity=\"1\" /><path clip-path=\"url(#clip630)\" d=\"M555.704 200.041 L555.704 202.124 L536.121 202.124 Q536.398 206.522 538.76 208.837 Q541.144 211.129 545.38 211.129 Q547.834 211.129 550.125 210.527 Q552.44 209.925 554.709 208.721 L554.709 212.749 Q552.417 213.721 550.009 214.231 Q547.602 214.74 545.125 214.74 Q538.922 214.74 535.287 211.129 Q531.676 207.518 531.676 201.36 Q531.676 194.995 535.102 191.268 Q538.551 187.518 544.384 187.518 Q549.616 187.518 552.648 190.897 Q555.704 194.254 555.704 200.041 M551.445 198.791 Q551.398 195.296 549.477 193.212 Q547.579 191.129 544.431 191.129 Q540.866 191.129 538.713 193.143 Q536.584 195.157 536.26 198.814 L551.445 198.791 Z\" fill=\"#000000\" fill-rule=\"nonzero\" fill-opacity=\"1\" /><path clip-path=\"url(#clip630)\" d=\"M566.908 180.782 L566.908 188.143 L575.681 188.143 L575.681 191.453 L566.908 191.453 L566.908 205.527 Q566.908 208.698 567.764 209.601 Q568.644 210.504 571.306 210.504 L575.681 210.504 L575.681 214.069 L571.306 214.069 Q566.375 214.069 564.5 212.24 Q562.625 210.388 562.625 205.527 L562.625 191.453 L559.5 191.453 L559.5 188.143 L562.625 188.143 L562.625 180.782 L566.908 180.782 Z\" fill=\"#000000\" fill-rule=\"nonzero\" fill-opacity=\"1\" /><path clip-path=\"url(#clip630)\" d=\"M593.065 201.036 Q587.903 201.036 585.912 202.217 Q583.921 203.397 583.921 206.245 Q583.921 208.513 585.403 209.856 Q586.907 211.175 589.477 211.175 Q593.018 211.175 595.148 208.675 Q597.301 206.152 597.301 201.985 L597.301 201.036 L593.065 201.036 M601.56 199.277 L601.56 214.069 L597.301 214.069 L597.301 210.133 Q595.843 212.495 593.667 213.629 Q591.491 214.74 588.343 214.74 Q584.361 214.74 582 212.518 Q579.662 210.272 579.662 206.522 Q579.662 202.147 582.579 199.925 Q585.519 197.703 591.329 197.703 L597.301 197.703 L597.301 197.286 Q597.301 194.347 595.356 192.749 Q593.435 191.129 589.94 191.129 Q587.718 191.129 585.611 191.661 Q583.505 192.194 581.56 193.259 L581.56 189.323 Q583.898 188.421 586.097 187.981 Q588.296 187.518 590.38 187.518 Q596.005 187.518 598.782 190.434 Q601.56 193.351 601.56 199.277 Z\" fill=\"#000000\" fill-rule=\"nonzero\" fill-opacity=\"1\" /><path clip-path=\"url(#clip630)\" d=\"M610.333 178.05 L614.592 178.05 L614.592 214.069 L610.333 214.069 L610.333 178.05 Z\" fill=\"#000000\" fill-rule=\"nonzero\" fill-opacity=\"1\" /><circle clip-path=\"url(#clip630)\" cx=\"344.792\" cy=\"248.629\" r=\"20.48\" fill=\"#00a9ad\" fill-rule=\"evenodd\" fill-opacity=\"1\" stroke=\"#000000\" stroke-opacity=\"1\" stroke-width=\"4.55111\"/>\n",
       "<path clip-path=\"url(#clip630)\" d=\"M448.968 232.622 L448.968 239.983 L457.741 239.983 L457.741 243.293 L448.968 243.293 L448.968 257.367 Q448.968 260.538 449.825 261.441 Q450.704 262.344 453.366 262.344 L457.741 262.344 L457.741 265.909 L453.366 265.909 Q448.436 265.909 446.561 264.08 Q444.686 262.228 444.686 257.367 L444.686 243.293 L441.561 243.293 L441.561 239.983 L444.686 239.983 L444.686 232.622 L448.968 232.622 Z\" fill=\"#000000\" fill-rule=\"nonzero\" fill-opacity=\"1\" /><path clip-path=\"url(#clip630)\" d=\"M485.519 251.881 L485.519 253.964 L465.936 253.964 Q466.214 258.362 468.575 260.677 Q470.959 262.969 475.195 262.969 Q477.649 262.969 479.94 262.367 Q482.255 261.765 484.524 260.561 L484.524 264.589 Q482.232 265.561 479.825 266.071 Q477.417 266.58 474.94 266.58 Q468.737 266.58 465.103 262.969 Q461.491 259.358 461.491 253.2 Q461.491 246.835 464.917 243.108 Q468.366 239.358 474.2 239.358 Q479.431 239.358 482.464 242.737 Q485.519 246.094 485.519 251.881 M481.26 250.631 Q481.214 247.136 479.292 245.052 Q477.394 242.969 474.246 242.969 Q470.681 242.969 468.528 244.983 Q466.399 246.997 466.075 250.654 L481.26 250.631 Z\" fill=\"#000000\" fill-rule=\"nonzero\" fill-opacity=\"1\" /><path clip-path=\"url(#clip630)\" d=\"M512.695 244.96 Q514.292 242.089 516.514 240.724 Q518.736 239.358 521.746 239.358 Q525.797 239.358 527.996 242.205 Q530.195 245.029 530.195 250.261 L530.195 265.909 L525.912 265.909 L525.912 250.399 Q525.912 246.673 524.593 244.867 Q523.273 243.062 520.565 243.062 Q517.255 243.062 515.334 245.261 Q513.412 247.46 513.412 251.256 L513.412 265.909 L509.13 265.909 L509.13 250.399 Q509.13 246.649 507.811 244.867 Q506.491 243.062 503.737 243.062 Q500.473 243.062 498.551 245.284 Q496.63 247.483 496.63 251.256 L496.63 265.909 L492.348 265.909 L492.348 239.983 L496.63 239.983 L496.63 244.011 Q498.088 241.626 500.125 240.492 Q502.162 239.358 504.963 239.358 Q507.787 239.358 509.755 240.793 Q511.746 242.228 512.695 244.96 Z\" fill=\"#000000\" fill-rule=\"nonzero\" fill-opacity=\"1\" /><path clip-path=\"url(#clip630)\" d=\"M542.81 262.02 L542.81 275.77 L538.528 275.77 L538.528 239.983 L542.81 239.983 L542.81 243.918 Q544.153 241.603 546.19 240.492 Q548.25 239.358 551.097 239.358 Q555.82 239.358 558.759 243.108 Q561.722 246.858 561.722 252.969 Q561.722 259.08 558.759 262.83 Q555.82 266.58 551.097 266.58 Q548.25 266.58 546.19 265.469 Q544.153 264.335 542.81 262.02 M557.301 252.969 Q557.301 248.27 555.357 245.608 Q553.435 242.923 550.056 242.923 Q546.676 242.923 544.732 245.608 Q542.81 248.27 542.81 252.969 Q542.81 257.668 544.732 260.353 Q546.676 263.015 550.056 263.015 Q553.435 263.015 555.357 260.353 Q557.301 257.668 557.301 252.969 Z\" fill=\"#000000\" fill-rule=\"nonzero\" fill-opacity=\"1\" /><path clip-path=\"url(#clip630)\" d=\"M578.829 242.969 Q575.403 242.969 573.412 245.654 Q571.421 248.316 571.421 252.969 Q571.421 257.622 573.389 260.307 Q575.38 262.969 578.829 262.969 Q582.232 262.969 584.222 260.284 Q586.213 257.598 586.213 252.969 Q586.213 248.362 584.222 245.677 Q582.232 242.969 578.829 242.969 M578.829 239.358 Q584.384 239.358 587.556 242.969 Q590.727 246.58 590.727 252.969 Q590.727 259.335 587.556 262.969 Q584.384 266.58 578.829 266.58 Q573.25 266.58 570.079 262.969 Q566.931 259.335 566.931 252.969 Q566.931 246.58 570.079 242.969 Q573.25 239.358 578.829 239.358 Z\" fill=\"#000000\" fill-rule=\"nonzero\" fill-opacity=\"1\" /><path clip-path=\"url(#clip630)\" d=\"M612.81 243.964 Q612.092 243.548 611.236 243.362 Q610.403 243.154 609.384 243.154 Q605.773 243.154 603.829 245.515 Q601.907 247.853 601.907 252.251 L601.907 265.909 L597.625 265.909 L597.625 239.983 L601.907 239.983 L601.907 244.011 Q603.25 241.649 605.403 240.515 Q607.555 239.358 610.634 239.358 Q611.074 239.358 611.606 239.427 Q612.139 239.474 612.787 239.589 L612.81 243.964 Z\" fill=\"#000000\" fill-rule=\"nonzero\" fill-opacity=\"1\" /><path clip-path=\"url(#clip630)\" d=\"M629.06 252.876 Q623.898 252.876 621.907 254.057 Q619.916 255.237 619.916 258.085 Q619.916 260.353 621.398 261.696 Q622.903 263.015 625.472 263.015 Q629.014 263.015 631.143 260.515 Q633.296 257.992 633.296 253.825 L633.296 252.876 L629.06 252.876 M637.555 251.117 L637.555 265.909 L633.296 265.909 L633.296 261.973 Q631.838 264.335 629.662 265.469 Q627.486 266.58 624.338 266.58 Q620.356 266.58 617.995 264.358 Q615.657 262.112 615.657 258.362 Q615.657 253.987 618.574 251.765 Q621.514 249.543 627.324 249.543 L633.296 249.543 L633.296 249.126 Q633.296 246.187 631.352 244.589 Q629.43 242.969 625.935 242.969 Q623.713 242.969 621.606 243.501 Q619.5 244.034 617.555 245.099 L617.555 241.163 Q619.893 240.261 622.092 239.821 Q624.291 239.358 626.375 239.358 Q632 239.358 634.778 242.274 Q637.555 245.191 637.555 251.117 Z\" fill=\"#000000\" fill-rule=\"nonzero\" fill-opacity=\"1\" /><path clip-path=\"url(#clip630)\" d=\"M646.328 229.89 L650.588 229.89 L650.588 265.909 L646.328 265.909 L646.328 229.89 Z\" fill=\"#000000\" fill-rule=\"nonzero\" fill-opacity=\"1\" /></svg>\n"
      ]
     },
     "execution_count": 139,
     "metadata": {},
     "output_type": "execute_result"
    }
   ],
   "source": [
    "SuStain.plot_progression(opt_tvec, dict_z, dict_zmax, regions)"
   ]
  }
 ],
 "metadata": {
  "kernelspec": {
   "display_name": "Julia 1.6.2",
   "language": "julia",
   "name": "julia-1.6"
  },
  "language_info": {
   "file_extension": ".jl",
   "mimetype": "application/julia",
   "name": "julia",
   "version": "1.6.2"
  }
 },
 "nbformat": 4,
 "nbformat_minor": 5
}
